{
 "cells": [
  {
   "cell_type": "code",
   "execution_count": 1,
   "metadata": {
    "ExecuteTime": {
     "end_time": "2021-08-31T23:11:56.920567Z",
     "start_time": "2021-08-31T23:11:56.897656Z"
    }
   },
   "outputs": [],
   "source": [
    "from __future__ import print_function\n",
    "\n",
    "from syntax import Identifier, LambdaAbs, Application, LetBinding\n",
    "from typeDefn import TypeVariable, TypeOperator\n",
    "from exceptions import InferenceError, ParseError\n",
    "from inference import *\n",
    "from typingEnv import typingEnv"
   ]
  },
  {
   "cell_type": "code",
   "execution_count": 2,
   "metadata": {
    "ExecuteTime": {
     "end_time": "2021-08-31T23:11:57.970566Z",
     "start_time": "2021-08-31T23:11:57.950304Z"
    }
   },
   "outputs": [],
   "source": [
    "def exp(expression):\n",
    "    print(str(expression) + \" : \", end=\" \")\n",
    "    try:\n",
    "        t = infer(expression, typingEnv)\n",
    "        print(str(t))\n",
    "    except (ParseError, InferenceError) as e:\n",
    "        print(e)"
   ]
  },
  {
   "cell_type": "code",
   "execution_count": 4,
   "metadata": {
    "ExecuteTime": {
     "end_time": "2021-08-31T23:09:24.357459Z",
     "start_time": "2021-08-31T23:09:24.344424Z"
    }
   },
   "outputs": [
    {
     "name": "stdout",
     "output_type": "stream",
     "text": [
      "(let factorial = (fix (fn self => (fn n => (((cond (zero n)) 1) ((times n) (self (pred n))))))) in (factorial 5)) :  int\n"
     ]
    }
   ],
   "source": [
    "# factorial\n",
    "factorial = LetBinding(\n",
    "    \"factorial\",  # let factorial =\n",
    "    Application(\n",
    "        Identifier(\"fix\"),\n",
    "        LambdaAbs(\n",
    "            \"self\",\n",
    "            LambdaAbs(\n",
    "                \"n\",  # fn n =>\n",
    "                Application(\n",
    "                    Application(  # cond (zero n) 1\n",
    "                        Application(\n",
    "                            Identifier(\"cond\"),  # cond (zero n)\n",
    "                            Application(Identifier(\"zero\"), Identifier(\"n\")),\n",
    "                        ),\n",
    "                        Identifier(\"1\"),\n",
    "                    ),  # else\n",
    "                    Application(  # times n\n",
    "                        Application(Identifier(\"times\"), Identifier(\"n\")),\n",
    "                        Application(\n",
    "                            Identifier(\"self\"),\n",
    "                            Application(\n",
    "                                Identifier(\"pred\"), Identifier(\"n\")\n",
    "                            ),  # n - 1\n",
    "                        ),\n",
    "                    ),\n",
    "                ),\n",
    "            ),\n",
    "        ),\n",
    "    ),  # in factorical 5\n",
    "    Application(Identifier(\"factorial\"), Identifier(\"5\")),\n",
    ")\n",
    "\n",
    "exp(factorial)"
   ]
  },
  {
   "cell_type": "code",
   "execution_count": 5,
   "metadata": {
    "ExecuteTime": {
     "end_time": "2021-08-31T23:10:03.747552Z",
     "start_time": "2021-08-31T23:10:03.735379Z"
    }
   },
   "outputs": [
    {
     "name": "stdout",
     "output_type": "stream",
     "text": [
      "(let f = (fn x => x) in ((pair (f 4)) (f true))) :  (int * bool)\n"
     ]
    }
   ],
   "source": [
    "# let f = (fn x => x) in ((pair (f 4)) (f true))\n",
    "let1 = LetBinding(\n",
    "            \"f\",\n",
    "            LambdaAbs(\"x\", Identifier(\"x\")),\n",
    "            Application(\n",
    "                Application(\n",
    "                    Identifier(\"pair\"), Application(Identifier(\"f\"), Identifier(\"4\"))\n",
    "                ),\n",
    "                Application(Identifier(\"f\"), Identifier(\"true\")),\n",
    "            ),\n",
    "        )\n",
    "exp(let1)"
   ]
  },
  {
   "cell_type": "code",
   "execution_count": 6,
   "metadata": {
    "ExecuteTime": {
     "end_time": "2021-08-31T23:10:29.306234Z",
     "start_time": "2021-08-31T23:10:29.289506Z"
    }
   },
   "outputs": [
    {
     "name": "stdout",
     "output_type": "stream",
     "text": [
      "(let g = (fn f => 5) in (g g)) :  int\n"
     ]
    }
   ],
   "source": [
    "# let g = fn f => 5 in g g\n",
    "let2 = LetBinding(\n",
    "    \"g\",\n",
    "    LambdaAbs(\"f\", Identifier(\"5\")),\n",
    "    Application(Identifier(\"g\"), Identifier(\"g\")),\n",
    ")\n",
    "exp(let2)"
   ]
  },
  {
   "cell_type": "code",
   "execution_count": 3,
   "metadata": {
    "ExecuteTime": {
     "end_time": "2021-08-31T23:11:42.730064Z",
     "start_time": "2021-08-31T23:11:42.718745Z"
    }
   },
   "outputs": [
    {
     "name": "stdout",
     "output_type": "stream",
     "text": [
      "(fn g => (let f = (fn x => g) in ((pair (f 3)) (f true)))) :  (a -> (a * a))\n"
     ]
    }
   ],
   "source": [
    "# fn g => let f = fn x => g in pair (f 3, f true)\n",
    "non_gen1 = LambdaAbs(\n",
    "    \"g\",\n",
    "    LetBinding(\n",
    "        \"f\",\n",
    "        LambdaAbs(\"x\", Identifier(\"g\")),\n",
    "        Application(\n",
    "            Application(\n",
    "                Identifier(\"pair\"),\n",
    "                Application(Identifier(\"f\"), Identifier(\"3\")),\n",
    "            ),\n",
    "            Application(Identifier(\"f\"), Identifier(\"true\")),\n",
    "        ),\n",
    "    ),\n",
    ")\n",
    "exp(non_gen1)"
   ]
  },
  {
   "cell_type": "code",
   "execution_count": 3,
   "metadata": {
    "ExecuteTime": {
     "end_time": "2021-08-31T23:12:32.876696Z",
     "start_time": "2021-08-31T23:12:32.858602Z"
    }
   },
   "outputs": [
    {
     "name": "stdout",
     "output_type": "stream",
     "text": [
      "(fn f => (fn g => (fn arg => (g (f arg))))) :  ((c -> d) -> ((d -> e) -> (c -> e)))\n"
     ]
    }
   ],
   "source": [
    "# fn f (fn g (fn arg (f g arg)))\n",
    "non_gen2 = LambdaAbs(\n",
    "    \"f\",\n",
    "    LambdaAbs(\n",
    "        \"g\",\n",
    "        LambdaAbs(\n",
    "            \"arg\",\n",
    "            Application(\n",
    "                Identifier(\"g\"), Application(Identifier(\"f\"), Identifier(\"arg\"))\n",
    "            ),\n",
    "        ),\n",
    "    ),\n",
    ")\n",
    "exp(non_gen2)"
   ]
  },
  {
   "cell_type": "code",
   "execution_count": 4,
   "metadata": {
    "ExecuteTime": {
     "end_time": "2021-08-31T23:13:48.350636Z",
     "start_time": "2021-08-31T23:13:48.342264Z"
    }
   },
   "outputs": [
    {
     "name": "stdout",
     "output_type": "stream",
     "text": [
      "(fn x => ((pair (x 3)) (x true))) :  Type mismatch: bool != int\n"
     ]
    }
   ],
   "source": [
    "# fn x => (pair(x(3) (x(true)))\n",
    "error1 = LambdaAbs(\n",
    "    \"x\",\n",
    "    Application(\n",
    "        Application(\n",
    "            Identifier(\"pair\"), Application(Identifier(\"x\"), Identifier(\"3\"))\n",
    "        ),\n",
    "        Application(Identifier(\"x\"), Identifier(\"true\")),\n",
    "    ),\n",
    ")\n",
    "exp(error1)"
   ]
  },
  {
   "cell_type": "code",
   "execution_count": 5,
   "metadata": {
    "ExecuteTime": {
     "end_time": "2021-08-31T23:14:07.999375Z",
     "start_time": "2021-08-31T23:14:07.984414Z"
    }
   },
   "outputs": [
    {
     "name": "stdout",
     "output_type": "stream",
     "text": [
      "((pair (f 4)) (f true)) :  Undefined symbol f\n"
     ]
    }
   ],
   "source": [
    "# pair(f(3), f(true))\n",
    "error2 = Application(\n",
    "    Application(\n",
    "        Identifier(\"pair\"), Application(Identifier(\"f\"), Identifier(\"4\"))\n",
    "    ),\n",
    "    Application(Identifier(\"f\"), Identifier(\"true\")),\n",
    ")\n",
    "exp(error2)"
   ]
  },
  {
   "cell_type": "code",
   "execution_count": null,
   "metadata": {},
   "outputs": [],
   "source": []
  }
 ],
 "metadata": {
  "interpreter": {
   "hash": "02f165f4bc1a37392eec0e6bcc961a78e9f736c7308978195e81e4bbe0fa68d6"
  },
  "kernelspec": {
   "display_name": "Python 3",
   "language": "python",
   "name": "python3"
  },
  "language_info": {
   "codemirror_mode": {
    "name": "ipython",
    "version": 3
   },
   "file_extension": ".py",
   "mimetype": "text/x-python",
   "name": "python",
   "nbconvert_exporter": "python",
   "pygments_lexer": "ipython3",
   "version": "3.7.8"
  },
  "toc": {
   "base_numbering": 1,
   "nav_menu": {},
   "number_sections": true,
   "sideBar": true,
   "skip_h1_title": false,
   "title_cell": "Table of Contents",
   "title_sidebar": "Contents",
   "toc_cell": false,
   "toc_position": {},
   "toc_section_display": true,
   "toc_window_display": false
  }
 },
 "nbformat": 4,
 "nbformat_minor": 2
}
